{
  "nbformat": 4,
  "nbformat_minor": 0,
  "metadata": {
    "colab": {
      "provenance": []
    },
    "kernelspec": {
      "name": "python3",
      "display_name": "Python 3"
    },
    "language_info": {
      "name": "python"
    }
  },
  "cells": [
    {
      "cell_type": "markdown",
      "source": [
        "#**Introduction to Unix Scripting**"
      ],
      "metadata": {
        "id": "UGwy7d_e9uTu"
      }
    },
    {
      "cell_type": "code",
      "execution_count": null,
      "metadata": {
        "colab": {
          "base_uri": "https://localhost:8080/"
        },
        "id": "R-nD2m5tupRb",
        "outputId": "f50f297c-8b8e-4a62-dd32-3a1a08271676"
      },
      "outputs": [
        {
          "output_type": "stream",
          "name": "stdout",
          "text": [
            "/content\n"
          ]
        }
      ],
      "source": [
        "%%bash\n",
        "pwd"
      ]
    },
    {
      "cell_type": "code",
      "source": [
        "%%bash\n",
        "ls"
      ],
      "metadata": {
        "colab": {
          "base_uri": "https://localhost:8080/"
        },
        "id": "0Z-CVn4au3rl",
        "outputId": "94242f2d-d910-422b-db32-717ebebdcb78"
      },
      "execution_count": null,
      "outputs": [
        {
          "output_type": "stream",
          "name": "stdout",
          "text": [
            "sample_data\n"
          ]
        }
      ]
    },
    {
      "cell_type": "code",
      "source": [
        "%%bash\n",
        "ls sample_data"
      ],
      "metadata": {
        "colab": {
          "base_uri": "https://localhost:8080/"
        },
        "id": "4GR2WkTUvCJI",
        "outputId": "8d7c7593-cb2f-417b-c0fa-ae2ee266c0f1"
      },
      "execution_count": null,
      "outputs": [
        {
          "output_type": "stream",
          "name": "stdout",
          "text": [
            "anscombe.json\n",
            "california_housing_test.csv\n",
            "california_housing_train.csv\n",
            "mnist_test.csv\n",
            "mnist_train_small.csv\n",
            "README.md\n"
          ]
        }
      ]
    },
    {
      "cell_type": "code",
      "source": [
        "%%bash\n",
        "cd sample_data\n",
        "pwd"
      ],
      "metadata": {
        "colab": {
          "base_uri": "https://localhost:8080/"
        },
        "id": "mOnYF9dtvF4h",
        "outputId": "90e8e213-c84e-4721-8ef4-8cf07292e12b"
      },
      "execution_count": null,
      "outputs": [
        {
          "output_type": "stream",
          "name": "stdout",
          "text": [
            "/content/sample_data\n"
          ]
        }
      ]
    },
    {
      "cell_type": "code",
      "source": [
        "%%bash\n",
        "echo \"Hello World!\""
      ],
      "metadata": {
        "colab": {
          "base_uri": "https://localhost:8080/"
        },
        "id": "qdarK_mgvJrH",
        "outputId": "502e181f-ae62-4402-861a-67c3539edec7"
      },
      "execution_count": null,
      "outputs": [
        {
          "output_type": "stream",
          "name": "stdout",
          "text": [
            "Hello World!\n"
          ]
        }
      ]
    },
    {
      "cell_type": "code",
      "source": [
        "%%bash\n",
        "echo \"wordOne\" \"wordTwo\" \"wordThree\""
      ],
      "metadata": {
        "colab": {
          "base_uri": "https://localhost:8080/"
        },
        "id": "gqrtnpdfvMgT",
        "outputId": "a7c4d515-4e85-4b07-9eed-d786066f436c"
      },
      "execution_count": null,
      "outputs": [
        {
          "output_type": "stream",
          "name": "stdout",
          "text": [
            "wordOne wordTwo wordThree\n"
          ]
        }
      ]
    },
    {
      "cell_type": "code",
      "source": [
        "%%bash\n",
        "wget -O example.txt 'https://drive.google.com/uc?export=download&id=1JqblHOsp5LWQ9zBki6Ra0AspQQVOMO9W'"
      ],
      "metadata": {
        "colab": {
          "base_uri": "https://localhost:8080/"
        },
        "id": "sKVgcZ3mvPG-",
        "outputId": "4396fe9d-d7bf-4d14-ffdb-430ee225e6b6"
      },
      "execution_count": null,
      "outputs": [
        {
          "output_type": "stream",
          "name": "stderr",
          "text": [
            "--2024-06-26 08:50:18--  https://drive.google.com/uc?export=download&id=1JqblHOsp5LWQ9zBki6Ra0AspQQVOMO9W\n",
            "Resolving drive.google.com (drive.google.com)... 142.250.98.138, 142.250.98.139, 142.250.98.102, ...\n",
            "Connecting to drive.google.com (drive.google.com)|142.250.98.138|:443... connected.\n",
            "HTTP request sent, awaiting response... 303 See Other\n",
            "Location: https://drive.usercontent.google.com/download?id=1JqblHOsp5LWQ9zBki6Ra0AspQQVOMO9W&export=download [following]\n",
            "--2024-06-26 08:50:18--  https://drive.usercontent.google.com/download?id=1JqblHOsp5LWQ9zBki6Ra0AspQQVOMO9W&export=download\n",
            "Resolving drive.usercontent.google.com (drive.usercontent.google.com)... 173.194.215.132, 2607:f8b0:400c:c0c::84\n",
            "Connecting to drive.usercontent.google.com (drive.usercontent.google.com)|173.194.215.132|:443... connected.\n",
            "HTTP request sent, awaiting response... 200 OK\n",
            "Length: 146 [application/octet-stream]\n",
            "Saving to: ‘example.txt’\n",
            "\n",
            "     0K                                                       100% 6.65M=0s\n",
            "\n",
            "2024-06-26 08:50:18 (6.65 MB/s) - ‘example.txt’ saved [146/146]\n",
            "\n"
          ]
        }
      ]
    },
    {
      "cell_type": "code",
      "source": [
        "%%bash\n",
        "wget -nv -O example.txt 'https://drive.google.com/uc?export=download&id=1JqblHOsp5LWQ9zBki6Ra0AspQQVOMO9W'"
      ],
      "metadata": {
        "colab": {
          "base_uri": "https://localhost:8080/"
        },
        "id": "gAJbex88vRvc",
        "outputId": "db91711b-fe75-47ba-90a5-cbbab56b5bfe"
      },
      "execution_count": null,
      "outputs": [
        {
          "output_type": "stream",
          "name": "stderr",
          "text": [
            "2024-06-26 08:50:32 URL:https://drive.usercontent.google.com/download?id=1JqblHOsp5LWQ9zBki6Ra0AspQQVOMO9W&export=download [146/146] -> \"example.txt\" [1]\n"
          ]
        }
      ]
    },
    {
      "cell_type": "code",
      "source": [
        "%%bash\n",
        "wget -O example.txt 'https://drive.google.com/uc?export=download&id=1JqblHOsp5LWQ9zBki6Ra0AspQQVOMO9W' &>/dev/null"
      ],
      "metadata": {
        "id": "RMwfRlTyvVQd"
      },
      "execution_count": null,
      "outputs": []
    },
    {
      "cell_type": "code",
      "source": [
        "%%bash\n",
        "cat example.txt"
      ],
      "metadata": {
        "colab": {
          "base_uri": "https://localhost:8080/"
        },
        "id": "eMan0Veevca5",
        "outputId": "8f554c3b-1980-4107-8d0f-53fdfb52aeac"
      },
      "execution_count": null,
      "outputs": [
        {
          "output_type": "stream",
          "name": "stdout",
          "text": [
            "This is an example text file.\n",
            "It is used to teach Unix commands.\n",
            "For example, the wc, head, and grep commands. \n",
            "This file has a total of 4 lines.\n"
          ]
        }
      ]
    },
    {
      "cell_type": "code",
      "source": [
        "%%bash\n",
        "wget -nv -O exampleTwo.txt 'https://drive.google.com/uc?export=download&id=16jP2qPOn_8ngTjyeRFEWmsv4BePKiQ7h' &>/dev/null\n",
        "cat exampleTwo.txt"
      ],
      "metadata": {
        "colab": {
          "base_uri": "https://localhost:8080/"
        },
        "id": "sHIEGP3BvfgQ",
        "outputId": "f0232fd4-9030-49dd-d8fd-f0b09b6971f2"
      },
      "execution_count": null,
      "outputs": [
        {
          "output_type": "stream",
          "name": "stdout",
          "text": [
            "this is the first line of a second example file\n",
            "this file can be concatenated to the first example file\n",
            "after concatenation, this line will be the last line\n"
          ]
        }
      ]
    },
    {
      "cell_type": "code",
      "source": [
        "%%bash\n",
        "cat exampleTwo.txt example.txt"
      ],
      "metadata": {
        "colab": {
          "base_uri": "https://localhost:8080/"
        },
        "id": "7eIQanWPvjRG",
        "outputId": "8180f105-8087-4e14-d0de-6ee71879e7ad"
      },
      "execution_count": null,
      "outputs": [
        {
          "output_type": "stream",
          "name": "stdout",
          "text": [
            "this is the first line of a second example file\n",
            "this file can be concatenated to the first example file\n",
            "after concatenation, this line will be the last line\n",
            "This is an example text file.\n",
            "It is used to teach Unix commands.\n",
            "For example, the wc, head, and grep commands. \n",
            "This file has a total of 4 lines.\n"
          ]
        }
      ]
    },
    {
      "cell_type": "code",
      "source": [
        "%%bash\n",
        "cat example.txt exampleTwo.txt > combinedExample.txt\n",
        "ls"
      ],
      "metadata": {
        "colab": {
          "base_uri": "https://localhost:8080/"
        },
        "id": "lcfZUvh_vlbt",
        "outputId": "073e33a3-2c48-4884-d613-6c921d7f9ddc"
      },
      "execution_count": null,
      "outputs": [
        {
          "output_type": "stream",
          "name": "stdout",
          "text": [
            "combinedExample.txt\n",
            "exampleTwo.txt\n",
            "example.txt\n",
            "sample_data\n"
          ]
        }
      ]
    },
    {
      "cell_type": "code",
      "source": [
        "%%bash\n",
        "cat combinedExample.txt"
      ],
      "metadata": {
        "colab": {
          "base_uri": "https://localhost:8080/"
        },
        "id": "RV-bquUfvnS8",
        "outputId": "77bfd490-4379-46f5-e183-e84e2cb56ffc"
      },
      "execution_count": null,
      "outputs": [
        {
          "output_type": "stream",
          "name": "stdout",
          "text": [
            "This is an example text file.\n",
            "It is used to teach Unix commands.\n",
            "For example, the wc, head, and grep commands. \n",
            "This file has a total of 4 lines.\n",
            "this is the first line of a second example file\n",
            "this file can be concatenated to the first example file\n",
            "after concatenation, this line will be the last line\n"
          ]
        }
      ]
    },
    {
      "cell_type": "code",
      "source": [
        "%%bash\n",
        "echo \"This string has 1 lines, 12 words, and 70 characters including spaces\" | wc"
      ],
      "metadata": {
        "colab": {
          "base_uri": "https://localhost:8080/"
        },
        "id": "QxAu0LGGvp9R",
        "outputId": "1ca87c08-e275-4f8a-b198-69c52fdf031d"
      },
      "execution_count": null,
      "outputs": [
        {
          "output_type": "stream",
          "name": "stdout",
          "text": [
            "      1      12      70\n"
          ]
        }
      ]
    },
    {
      "cell_type": "code",
      "source": [
        "%%bash\n",
        "echo \"This string has 1 lines, 12 words, and 70 characters including spaces\" | wc -l"
      ],
      "metadata": {
        "colab": {
          "base_uri": "https://localhost:8080/"
        },
        "id": "oBiY2OSvvsUd",
        "outputId": "65c061b8-8776-4cd9-ed4a-25adc7ed872b"
      },
      "execution_count": null,
      "outputs": [
        {
          "output_type": "stream",
          "name": "stdout",
          "text": [
            "1\n"
          ]
        }
      ]
    },
    {
      "cell_type": "code",
      "source": [
        "%%bash\n",
        "echo \"This string has 1 lines, 12 words, and 70 characters including spaces\" | wc -w"
      ],
      "metadata": {
        "colab": {
          "base_uri": "https://localhost:8080/"
        },
        "id": "HFA-9IhqvuiV",
        "outputId": "1d703d99-b252-4cfc-89f2-cbb3f12416ec"
      },
      "execution_count": null,
      "outputs": [
        {
          "output_type": "stream",
          "name": "stdout",
          "text": [
            "12\n"
          ]
        }
      ]
    },
    {
      "cell_type": "code",
      "source": [
        "%%bash\n",
        "echo \"This string has 1 lines, 12 words, and 70 characters including spaces\" | wc -m"
      ],
      "metadata": {
        "colab": {
          "base_uri": "https://localhost:8080/"
        },
        "id": "9ziibQsevw4B",
        "outputId": "427ab7dc-bb69-4d6a-b6a2-228490eec243"
      },
      "execution_count": null,
      "outputs": [
        {
          "output_type": "stream",
          "name": "stdout",
          "text": [
            "70\n"
          ]
        }
      ]
    },
    {
      "cell_type": "code",
      "source": [
        "%%bash\n",
        "cat combinedExample.txt"
      ],
      "metadata": {
        "colab": {
          "base_uri": "https://localhost:8080/"
        },
        "id": "Y4FdcsxDv0My",
        "outputId": "3c5c7746-c4bf-44e2-be28-8c55d5da1355"
      },
      "execution_count": null,
      "outputs": [
        {
          "output_type": "stream",
          "name": "stdout",
          "text": [
            "This is an example text file.\n",
            "It is used to teach Unix commands.\n",
            "For example, the wc, head, and grep commands. \n",
            "This file has a total of 4 lines.\n",
            "this is the first line of a second example file\n",
            "this file can be concatenated to the first example file\n",
            "after concatenation, this line will be the last line\n"
          ]
        }
      ]
    },
    {
      "cell_type": "code",
      "source": [
        "%%bash\n",
        "wc combinedExample.txt"
      ],
      "metadata": {
        "colab": {
          "base_uri": "https://localhost:8080/"
        },
        "id": "9j5aS8wBv2_r",
        "outputId": "d0dd3727-2cd7-42b1-8878-08b0b73b2f17"
      },
      "execution_count": null,
      "outputs": [
        {
          "output_type": "stream",
          "name": "stdout",
          "text": [
            "  7  58 303 combinedExample.txt\n"
          ]
        }
      ]
    },
    {
      "cell_type": "code",
      "source": [
        "%%bash\n",
        "cat combinedExample.txt"
      ],
      "metadata": {
        "colab": {
          "base_uri": "https://localhost:8080/"
        },
        "id": "1TDCneVSv408",
        "outputId": "d1ef2802-b6d6-4c0f-84f3-32bca8e2c26b"
      },
      "execution_count": null,
      "outputs": [
        {
          "output_type": "stream",
          "name": "stdout",
          "text": [
            "This is an example text file.\n",
            "It is used to teach Unix commands.\n",
            "For example, the wc, head, and grep commands. \n",
            "This file has a total of 4 lines.\n",
            "this is the first line of a second example file\n",
            "this file can be concatenated to the first example file\n",
            "after concatenation, this line will be the last line\n"
          ]
        }
      ]
    },
    {
      "cell_type": "code",
      "source": [
        "%%bash\n",
        "grep \"this\" combinedExample.txt"
      ],
      "metadata": {
        "colab": {
          "base_uri": "https://localhost:8080/"
        },
        "id": "YpIML1wjv7G1",
        "outputId": "50c9ee6b-3110-460f-b821-638596b9a923"
      },
      "execution_count": null,
      "outputs": [
        {
          "output_type": "stream",
          "name": "stdout",
          "text": [
            "this is the first line of a second example file\n",
            "this file can be concatenated to the first example file\n",
            "after concatenation, this line will be the last line\n"
          ]
        }
      ]
    },
    {
      "cell_type": "code",
      "source": [
        "%%bash\n",
        "grep \"This\" combinedExample.txt"
      ],
      "metadata": {
        "colab": {
          "base_uri": "https://localhost:8080/"
        },
        "id": "7uIRBleBv9_U",
        "outputId": "1ea970ec-27bd-43b1-8c1f-b127c13bd115"
      },
      "execution_count": null,
      "outputs": [
        {
          "output_type": "stream",
          "name": "stdout",
          "text": [
            "This is an example text file.\n",
            "This file has a total of 4 lines.\n"
          ]
        }
      ]
    },
    {
      "cell_type": "code",
      "source": [
        "%%bash\n",
        "grep -i \"this\" combinedExample.txt"
      ],
      "metadata": {
        "colab": {
          "base_uri": "https://localhost:8080/"
        },
        "id": "7VZVWzzGwAro",
        "outputId": "73ece047-809a-4e90-86ba-d270b5e587a4"
      },
      "execution_count": null,
      "outputs": [
        {
          "output_type": "stream",
          "name": "stdout",
          "text": [
            "This is an example text file.\n",
            "This file has a total of 4 lines.\n",
            "this is the first line of a second example file\n",
            "this file can be concatenated to the first example file\n",
            "after concatenation, this line will be the last line\n"
          ]
        }
      ]
    },
    {
      "cell_type": "code",
      "source": [
        "%%bash\n",
        "grep \"^this\" combinedExample.txt"
      ],
      "metadata": {
        "colab": {
          "base_uri": "https://localhost:8080/"
        },
        "id": "wmlnPqE8wDO-",
        "outputId": "22f92949-cbf4-44af-8308-b46266a8a7f0"
      },
      "execution_count": null,
      "outputs": [
        {
          "output_type": "stream",
          "name": "stdout",
          "text": [
            "this is the first line of a second example file\n",
            "this file can be concatenated to the first example file\n"
          ]
        }
      ]
    },
    {
      "cell_type": "code",
      "source": [
        "%%bash\n",
        "grep \"file$\" combinedExample.txt"
      ],
      "metadata": {
        "colab": {
          "base_uri": "https://localhost:8080/"
        },
        "id": "ZoU47W89wFqV",
        "outputId": "766e096e-8a5e-40bf-fbd8-797a3e67b0d9"
      },
      "execution_count": null,
      "outputs": [
        {
          "output_type": "stream",
          "name": "stdout",
          "text": [
            "this is the first line of a second example file\n",
            "this file can be concatenated to the first example file\n"
          ]
        }
      ]
    },
    {
      "cell_type": "code",
      "source": [
        "%%bash\n",
        "cat > myScript\n",
        "#!/bin/bash\n",
        "echo \"Hello World!\""
      ],
      "metadata": {
        "id": "cdlzVmWswX_X"
      },
      "execution_count": null,
      "outputs": []
    },
    {
      "cell_type": "code",
      "source": [
        "%%bash\n",
        "cat myScript"
      ],
      "metadata": {
        "colab": {
          "base_uri": "https://localhost:8080/"
        },
        "id": "oytoWkVfwbjz",
        "outputId": "8f8bad39-a2d1-4fa2-f026-787069503fc9"
      },
      "execution_count": null,
      "outputs": [
        {
          "output_type": "stream",
          "name": "stdout",
          "text": [
            "#!/bin/bash\n",
            "echo \"Hello World!\"\n"
          ]
        }
      ]
    },
    {
      "cell_type": "code",
      "source": [
        "%%bash\n",
        "ls -l"
      ],
      "metadata": {
        "colab": {
          "base_uri": "https://localhost:8080/"
        },
        "id": "MzPvS7KdwdtK",
        "outputId": "d6627411-e15d-47d0-dddb-21c99971d933"
      },
      "execution_count": null,
      "outputs": [
        {
          "output_type": "stream",
          "name": "stdout",
          "text": [
            "total 20\n",
            "-rw-r--r-- 1 root root  303 Jun 26 08:51 combinedExample.txt\n",
            "-rw-r--r-- 1 root root  157 Jan 13  2022 exampleTwo.txt\n",
            "-rw-r--r-- 1 root root  146 Jan 13  2022 example.txt\n",
            "-rw-r--r-- 1 root root   32 Jun 26 08:55 myScript\n",
            "drwxr-xr-x 1 root root 4096 Jun 24 13:28 sample_data\n"
          ]
        }
      ]
    },
    {
      "cell_type": "code",
      "source": [
        "%%bash\n",
        "chmod u+x myScript"
      ],
      "metadata": {
        "id": "3O5JKXn_wfwU"
      },
      "execution_count": null,
      "outputs": []
    },
    {
      "cell_type": "code",
      "source": [
        "%%bash\n",
        "ls -l"
      ],
      "metadata": {
        "colab": {
          "base_uri": "https://localhost:8080/"
        },
        "id": "stlmBE89woVE",
        "outputId": "87a844ed-cb82-4a3c-d220-ff4315c40c6c"
      },
      "execution_count": null,
      "outputs": [
        {
          "output_type": "stream",
          "name": "stdout",
          "text": [
            "total 20\n",
            "-rw-r--r-- 1 root root  303 Jun 26 08:51 combinedExample.txt\n",
            "-rw-r--r-- 1 root root  157 Jan 13  2022 exampleTwo.txt\n",
            "-rw-r--r-- 1 root root  146 Jan 13  2022 example.txt\n",
            "-rwxr--r-- 1 root root   32 Jun 26 08:55 myScript\n",
            "drwxr-xr-x 1 root root 4096 Jun 24 13:28 sample_data\n"
          ]
        }
      ]
    },
    {
      "cell_type": "code",
      "source": [
        "%%bash\n",
        "./myScript"
      ],
      "metadata": {
        "colab": {
          "base_uri": "https://localhost:8080/"
        },
        "id": "pZFWWPxNwqbB",
        "outputId": "60a67df5-6115-4f64-956d-aa0c6d545683"
      },
      "execution_count": null,
      "outputs": [
        {
          "output_type": "stream",
          "name": "stdout",
          "text": [
            "Hello World!\n"
          ]
        }
      ]
    },
    {
      "cell_type": "code",
      "source": [
        "%%bash\n",
        "/content/myScript"
      ],
      "metadata": {
        "colab": {
          "base_uri": "https://localhost:8080/"
        },
        "id": "vgmKlNHkws0s",
        "outputId": "bb31f4ea-040b-4fb6-917c-69cdb73e2dfa"
      },
      "execution_count": null,
      "outputs": [
        {
          "output_type": "stream",
          "name": "stdout",
          "text": [
            "Hello World!\n"
          ]
        }
      ]
    },
    {
      "cell_type": "code",
      "source": [
        "%%bash\n",
        "cat > apprendPractice.txt\n",
        "This file has 1 line."
      ],
      "metadata": {
        "id": "kYbl8uE6wtxG"
      },
      "execution_count": null,
      "outputs": []
    },
    {
      "cell_type": "code",
      "source": [
        "%%bash\n",
        "cat >> apprendPractice.txt\n",
        "This file has 2 lines."
      ],
      "metadata": {
        "id": "P-cllJu2wxHa"
      },
      "execution_count": null,
      "outputs": []
    },
    {
      "cell_type": "code",
      "source": [
        "%%bash\n",
        "cat apprendPractice.txt"
      ],
      "metadata": {
        "colab": {
          "base_uri": "https://localhost:8080/"
        },
        "id": "fznhNvRhwz2U",
        "outputId": "6024ec86-6a2e-41de-f938-f3e8d4be96b2"
      },
      "execution_count": null,
      "outputs": [
        {
          "output_type": "stream",
          "name": "stdout",
          "text": [
            "This file has 1 line.\n",
            "This file has 2 lines.\n"
          ]
        }
      ]
    },
    {
      "cell_type": "code",
      "source": [
        "%%bash\n",
        "touch example.txt exampleTwo.txt exampleThree.txt"
      ],
      "metadata": {
        "id": "PXp7oO7Rw1CE"
      },
      "execution_count": null,
      "outputs": []
    },
    {
      "cell_type": "code",
      "source": [
        "%%bash\n",
        "for file in *.txt; do\n",
        "    echo \"Text file found!\"\n",
        "    echo $file\n",
        "done"
      ],
      "metadata": {
        "colab": {
          "base_uri": "https://localhost:8080/"
        },
        "id": "STRslssSw4Vk",
        "outputId": "70f9abe6-6b1e-42d8-96a7-68a91e346071"
      },
      "execution_count": null,
      "outputs": [
        {
          "output_type": "stream",
          "name": "stdout",
          "text": [
            "Text file found!\n",
            "apprendPractice.txt\n",
            "Text file found!\n",
            "combinedExample.txt\n",
            "Text file found!\n",
            "exampleThree.txt\n",
            "Text file found!\n",
            "exampleTwo.txt\n",
            "Text file found!\n",
            "example.txt\n"
          ]
        }
      ]
    },
    {
      "cell_type": "markdown",
      "source": [
        "#**Lab Assignment 2: Parsing FASTA files with UNIX scripts**"
      ],
      "metadata": {
        "id": "qGE6LDGe62Pg"
      }
    },
    {
      "cell_type": "code",
      "source": [
        "%%bash\n",
        "wget -nv -O IGHJ_Mouse.fa 'https://drive.google.com/uc?export=download&id=19OjK8m9M9WwUZpB-5FLSu7RWeQhRbYKO'\n",
        "wget -nv -O IGHJ_Human.fa 'https://drive.google.com/uc?export=download&id=1kUzbiYfBOYQDXUaUzJ4NEGJN9ysPulBz'\n",
        "wget -nv -O IGHJ_Zebrafish.fa 'https://drive.google.com/uc?export=download&id=1m0VB08CBfl6GZ9rfCtmDyh6PI7elHcak'"
      ],
      "metadata": {
        "colab": {
          "base_uri": "https://localhost:8080/"
        },
        "id": "fX1dzYAiw70a",
        "outputId": "35d128ed-ede0-4b82-f2f7-d74381e5eb47"
      },
      "execution_count": null,
      "outputs": [
        {
          "output_type": "stream",
          "name": "stderr",
          "text": [
            "2024-06-26 08:57:39 URL:https://drive.usercontent.google.com/download?id=19OjK8m9M9WwUZpB-5FLSu7RWeQhRbYKO&export=download [1178/1178] -> \"IGHJ_Mouse.fa\" [1]\n",
            "2024-06-26 08:57:39 URL:https://drive.usercontent.google.com/download?id=1kUzbiYfBOYQDXUaUzJ4NEGJN9ysPulBz&export=download [2639/2639] -> \"IGHJ_Human.fa\" [1]\n",
            "2024-06-26 08:57:39 URL:https://drive.usercontent.google.com/download?id=1m0VB08CBfl6GZ9rfCtmDyh6PI7elHcak&export=download [1034/1034] -> \"IGHJ_Zebrafish.fa\" [1]\n"
          ]
        }
      ]
    },
    {
      "cell_type": "markdown",
      "source": [
        "1) Create a Unix script named `headerExtractor` to extract the FASTA headers from all files and save them in a file called `headers.txt.`\n",
        "2) Create a Unix script named `seqMeasurer` to extract both FASTA headers and sequences lengths from all files and save them in a file called `lengths.txt.`\n",
        "\n",
        "Each FASTA file should have an entry in `lengths.txt`.\n",
        "The format of each entry in `lengths.txt` is as follows:\n",
        "*   Multiple lines with the FASTA headers for a file\n",
        "*   On its own line, the sum of the nucleotides for all FASTA sequences in that file\n",
        "\n",
        "_Hint_: Try experimenting with the `grep` commands's `-v`/ `--invert-match` option to search for string that do not match the target string or regular expression."
      ],
      "metadata": {
        "id": "84etBAca9QlO"
      }
    },
    {
      "cell_type": "code",
      "source": [
        "%%bash\n",
        "> headers.txt\n",
        "\n",
        "for file in *.fa; do\n",
        "\n",
        "  grep \"^>\" \"$file\" >> headers.txt\n",
        "done > headerExtractor\n"
      ],
      "metadata": {
        "id": "_B8Tn-wTw_p4"
      },
      "execution_count": null,
      "outputs": []
    },
    {
      "cell_type": "code",
      "source": [
        "%%bash\n",
        "\n",
        "> lengths.txt\n",
        "\n",
        "for file in *.fa; do\n",
        "  echo \"Processing $file\" >> lengths.txt\n",
        "  grep \"^>\" \"$file\" >> lengths.txt\n",
        "  total_length=$(grep -v \"^>\" \"$file\" | tr -d '\\n' | wc -c)\n",
        "  echo \"$total_length\" >> lengths.txt\n",
        "\n",
        "  echo \"\" >> lengths.txt\n",
        "done > seqMeasurer"
      ],
      "metadata": {
        "id": "91UYX3rpxDWM"
      },
      "execution_count": null,
      "outputs": []
    },
    {
      "cell_type": "code",
      "source": [
        "%%bash\n",
        "chmod +x headerExtractor\n",
        "chmod +x seqMeasurer"
      ],
      "metadata": {
        "id": "pFB-14RyxF5t"
      },
      "execution_count": null,
      "outputs": []
    },
    {
      "cell_type": "code",
      "source": [
        "%%bash\n",
        "./headerExtractor\n",
        "./seqMeasurer"
      ],
      "metadata": {
        "id": "ZD9BqKYkxG3R"
      },
      "execution_count": null,
      "outputs": []
    }
  ]
}