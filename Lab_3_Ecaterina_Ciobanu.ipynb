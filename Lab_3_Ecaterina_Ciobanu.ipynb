{
  "nbformat": 4,
  "nbformat_minor": 0,
  "metadata": {
    "colab": {
      "provenance": []
    },
    "kernelspec": {
      "name": "python3",
      "display_name": "Python 3"
    },
    "language_info": {
      "name": "python"
    }
  },
  "cells": [
    {
      "cell_type": "markdown",
      "source": [
        "#**Lab 3 Assignment: Developing Python literacy in Google Colaboratory**"
      ],
      "metadata": {
        "id": "jGWdjh4ZJPzt"
      }
    },
    {
      "cell_type": "markdown",
      "source": [
        "**Select the O antigen from this list.**"
      ],
      "metadata": {
        "id": "OTdO7BZjKipC"
      }
    },
    {
      "cell_type": "code",
      "source": [
        "bloodAntigens = ['A', 'B', 'O']\n",
        "antigenO = bloodAntigens[2]\n",
        "print(antigenO)\n"
      ],
      "metadata": {
        "colab": {
          "base_uri": "https://localhost:8080/"
        },
        "id": "q7-EfRc1KGA7",
        "outputId": "523a8ca2-81af-428d-b370-d295b10d8dff"
      },
      "execution_count": null,
      "outputs": [
        {
          "output_type": "stream",
          "name": "stdout",
          "text": [
            "O\n"
          ]
        }
      ]
    },
    {
      "cell_type": "code",
      "source": [
        "bloodAntigens = ['A', 'B', 'O']\n",
        "antigenO = None\n",
        "for antigen in bloodAntigens:\n",
        "    if antigen == 'O':\n",
        "        antigenO = antigen\n",
        "        break\n",
        "print(antigenO)\n"
      ],
      "metadata": {
        "colab": {
          "base_uri": "https://localhost:8080/"
        },
        "id": "HaFKLQUcKfSA",
        "outputId": "4bd7d16a-a0ab-410d-e0f0-db159869b5c8"
      },
      "execution_count": null,
      "outputs": [
        {
          "output_type": "stream",
          "name": "stdout",
          "text": [
            "O\n"
          ]
        }
      ]
    },
    {
      "cell_type": "markdown",
      "source": [
        "**Lookup the O-compatible plasma types from this dictionary.**"
      ],
      "metadata": {
        "id": "gVGvaPXqLbgF"
      }
    },
    {
      "cell_type": "code",
      "source": [
        "bloodTypeCompatibilities = { 'A': ['A', 'AB'], 'B': ['B', 'AB'], 'AB': ['AB'], 'O': ['A', 'B', 'AB', 'O'] }\n",
        "\n",
        "o_compatible_plasma = bloodTypeCompatibilities['O']\n",
        "print(o_compatible_plasma)\n"
      ],
      "metadata": {
        "colab": {
          "base_uri": "https://localhost:8080/"
        },
        "id": "yznz9AU1LTKL",
        "outputId": "cec62c30-25be-42ac-8c69-ad64590c4b69"
      },
      "execution_count": null,
      "outputs": [
        {
          "output_type": "stream",
          "name": "stdout",
          "text": [
            "['A', 'B', 'AB', 'O']\n"
          ]
        }
      ]
    },
    {
      "cell_type": "markdown",
      "source": [
        "**Access the beginning of the sample name column in the following DataFrame.**"
      ],
      "metadata": {
        "id": "d3YfPpG6Lg5I"
      }
    },
    {
      "cell_type": "code",
      "source": [
        "import pandas as pd\n",
        "\n",
        "columns = {'sampleName': ['cell1', 'cell2', 'cell3', 'cell4'], 'Treatment': ['Case', 'Control', 'Control', 'Case']}\n",
        "df = pd.DataFrame(columns)\n",
        "\n",
        "df['sampleName'].head()\n",
        "\n"
      ],
      "metadata": {
        "colab": {
          "base_uri": "https://localhost:8080/"
        },
        "id": "pcc5yUrQLj7R",
        "outputId": "dafe2194-096a-401f-86b6-c55a04f22cb2"
      },
      "execution_count": null,
      "outputs": [
        {
          "output_type": "execute_result",
          "data": {
            "text/plain": [
              "0    cell1\n",
              "1    cell2\n",
              "2    cell3\n",
              "3    cell4\n",
              "Name: sampleName, dtype: object"
            ]
          },
          "metadata": {},
          "execution_count": 26
        }
      ]
    },
    {
      "cell_type": "markdown",
      "source": [
        "**Save the Superfamily column from the DataFrame downloaded below.**"
      ],
      "metadata": {
        "id": "jxQn6VHYLq4b"
      }
    },
    {
      "cell_type": "code",
      "source": [
        "import pandas as pd\n",
        "\n",
        "url = 'https://zenodo.org/record/4579911/files/00_RKG_MS_WG_RawCCData.csv?download=1'\n",
        "antBrainCellsDF = pd.read_csv(url)\n",
        "\n",
        "superfamilyColumn = antBrainCellsDF[['Superfamily']]\n",
        "superfamilyColumn.to_csv('superfamily_column.csv', index=False)\n"
      ],
      "metadata": {
        "id": "tjUXl3czN6ZB"
      },
      "execution_count": null,
      "outputs": []
    }
  ]
}